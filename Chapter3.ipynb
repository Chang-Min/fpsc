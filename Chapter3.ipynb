{
 "metadata": {
  "name": "",
  "signature": "sha256:e214a23c0c02f68a4b2e3e51901e17eeaa1b0597caa73ebc183cc473c1e064a8"
 },
 "nbformat": 3,
 "nbformat_minor": 0,
 "worksheets": [
  {
   "cells": [
    {
     "cell_type": "code",
     "collapsed": false,
     "input": [
      "sealed trait List[+A] \n",
      "case object Nil extends List[Nothing] \n",
      "case class Cons[+A](head: A, tail: List[A]) extends List[A]\n",
      "object List { \n",
      "    def sum(ints: List[Int]): Int = ints match {\n",
      "        case Nil => 0\n",
      "        case Cons(x,xs) => x + sum(xs)\n",
      "    }\n",
      "    def product(ds: List[Double]): Double = ds match {\n",
      "        case Nil => 1.0\n",
      "        case Cons(0.0, _) => 0.0\n",
      "        case Cons(x,xs) => x * product(xs)\n",
      "    }\n",
      "    def apply[A](as: A*): List[A] =\n",
      "        if (as.isEmpty) Nil\n",
      "        else Cons(as.head, apply(as.tail: _*))\n",
      "    def foldRight[A,B](as: List[A], z:B)(f: (A,B)=>B): B = \n",
      "        as match {\n",
      "            case Nil => z\n",
      "            case Cons(x, xs) => {\n",
      "                //println(x)\n",
      "                f(x, foldRight(xs, z)(f))\n",
      "            }\n",
      "        }\n",
      "    def sum2(ns: List[Int]) =  foldRight(ns, 0)(_ + _)\n",
      "    def product2(ns: List[Double]) = foldRight(ns, 1.0)(_ * _)\n",
      "    def foldRightP[A,B](as: List[A], z:B)(f: (A,B)=>B): B = \n",
      "        as match {\n",
      "            case Nil => z\n",
      "            case Cons(x, xs) => {\n",
      "                println(x)\n",
      "                if (x==0 || x==0.0) f(x, foldRightP(Nil, z)(f))\n",
      "                else f(x, foldRightP(xs, z)(f))\n",
      "            }\n",
      "        }\n",
      "    def product3(ns: List[Double]) = foldRightP(ns, 1.0)(_ * _)\n",
      "    def length[A](l: List[A]): Int = {\n",
      "        def count(e: A, n: Int): Int = e match {\n",
      "            case Nil => n\n",
      "            case _ => n+1\n",
      "        }\n",
      "        foldRight(l, 0)(count)\n",
      "    }\n",
      "}\n"
     ],
     "language": "python",
     "metadata": {},
     "outputs": [
      {
       "output_type": "stream",
       "stream": "stdout",
       "text": []
      },
      {
       "output_type": "stream",
       "stream": "stderr",
       "text": []
      },
      {
       "metadata": {},
       "output_type": "pyout",
       "prompt_number": 54,
       "text": [
        "List$@b088b2"
       ]
      }
     ],
     "prompt_number": 54
    },
    {
     "cell_type": "code",
     "collapsed": false,
     "input": [
      "List(1,2,3,4) match {\n",
      "    case Nil => Nil\n",
      "    case Cons(x, Cons(y, Cons(3, _))) => x+y\n",
      "    case _ => sys.error(\"haha\")\n",
      "}"
     ],
     "language": "python",
     "metadata": {},
     "outputs": [
      {
       "output_type": "stream",
       "stream": "stdout",
       "text": []
      },
      {
       "output_type": "stream",
       "stream": "stderr",
       "text": []
      },
      {
       "metadata": {},
       "output_type": "pyout",
       "prompt_number": 4,
       "text": [
        "3"
       ]
      }
     ],
     "prompt_number": 4
    },
    {
     "cell_type": "code",
     "collapsed": false,
     "input": [
      "List.sum2(List(1,2,3,4))"
     ],
     "language": "python",
     "metadata": {},
     "outputs": [
      {
       "output_type": "stream",
       "stream": "stdout",
       "text": [
        "1\r\n",
        "2\r\n",
        "3\r\n",
        "4\r\n"
       ]
      },
      {
       "output_type": "stream",
       "stream": "stderr",
       "text": []
      },
      {
       "metadata": {},
       "output_type": "pyout",
       "prompt_number": 8,
       "text": [
        "10"
       ]
      }
     ],
     "prompt_number": 8
    },
    {
     "cell_type": "code",
     "collapsed": false,
     "input": [
      "List.product2(List(1,2,3,4))"
     ],
     "language": "python",
     "metadata": {},
     "outputs": [
      {
       "output_type": "stream",
       "stream": "stdout",
       "text": [
        "1.0\r\n",
        "2.0\r\n",
        "3.0\r\n",
        "4.0\r\n"
       ]
      },
      {
       "output_type": "stream",
       "stream": "stderr",
       "text": []
      },
      {
       "metadata": {},
       "output_type": "pyout",
       "prompt_number": 9,
       "text": [
        "24.0"
       ]
      }
     ],
     "prompt_number": 9
    },
    {
     "cell_type": "code",
     "collapsed": false,
     "input": [
      "List.product3(List(1,0,3,4))"
     ],
     "language": "python",
     "metadata": {},
     "outputs": [
      {
       "output_type": "stream",
       "stream": "stdout",
       "text": [
        "1.0\r\n",
        "0.0\r\n"
       ]
      },
      {
       "output_type": "stream",
       "stream": "stderr",
       "text": []
      },
      {
       "metadata": {},
       "output_type": "pyout",
       "prompt_number": 19,
       "text": [
        "0.0"
       ]
      }
     ],
     "prompt_number": 19
    },
    {
     "cell_type": "code",
     "collapsed": false,
     "input": [
      "List.foldRight(List(1,2,3,4), Nil:List[Int])(Cons(_,_))"
     ],
     "language": "python",
     "metadata": {},
     "outputs": [
      {
       "output_type": "stream",
       "stream": "stdout",
       "text": [
        "1\r\n",
        "2\r\n",
        "3\r\n",
        "4\r\n"
       ]
      },
      {
       "output_type": "stream",
       "stream": "stderr",
       "text": []
      },
      {
       "metadata": {},
       "output_type": "pyout",
       "prompt_number": 22,
       "text": [
        "Cons(1,Cons(2,Cons(3,Cons(4,Nil))))"
       ]
      }
     ],
     "prompt_number": 22
    },
    {
     "cell_type": "code",
     "collapsed": false,
     "input": [
      "List.sum2(List(1,1,1,1))"
     ],
     "language": "python",
     "metadata": {},
     "outputs": [
      {
       "output_type": "stream",
       "stream": "stdout",
       "text": []
      },
      {
       "output_type": "stream",
       "stream": "stderr",
       "text": []
      },
      {
       "metadata": {},
       "output_type": "pyout",
       "prompt_number": 42,
       "text": [
        "4"
       ]
      }
     ],
     "prompt_number": 42
    },
    {
     "cell_type": "code",
     "collapsed": false,
     "input": [
      "List.length(List(1,2,3,4))"
     ],
     "language": "python",
     "metadata": {},
     "outputs": [
      {
       "output_type": "stream",
       "stream": "stderr",
       "text": []
      },
      {
       "output_type": "stream",
       "stream": "stdout",
       "text": []
      },
      {
       "metadata": {},
       "output_type": "pyout",
       "prompt_number": 55,
       "text": [
        "4"
       ]
      }
     ],
     "prompt_number": 55
    },
    {
     "cell_type": "code",
     "collapsed": false,
     "input": [
      "List.length(List(\"a\",\"b\",\"c\"))"
     ],
     "language": "python",
     "metadata": {},
     "outputs": [
      {
       "output_type": "stream",
       "stream": "stdout",
       "text": []
      },
      {
       "output_type": "stream",
       "stream": "stderr",
       "text": []
      },
      {
       "metadata": {},
       "output_type": "pyout",
       "prompt_number": 56,
       "text": [
        "3"
       ]
      }
     ],
     "prompt_number": 56
    },
    {
     "cell_type": "code",
     "collapsed": false,
     "input": [],
     "language": "python",
     "metadata": {},
     "outputs": []
    }
   ],
   "metadata": {}
  }
 ]
}